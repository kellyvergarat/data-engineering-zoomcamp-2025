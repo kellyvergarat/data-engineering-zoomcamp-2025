{
 "cells": [
  {
   "cell_type": "markdown",
   "metadata": {},
   "source": [
    "### Example of docker compose\n",
    "services:\n",
    "  db:\n",
    "    container_name: postgres\n",
    "    image: postgres:17-alpine\n",
    "    environment:\n",
    "      POSTGRES_USER: 'postgres'\n",
    "      POSTGRES_PASSWORD: 'postgres'\n",
    "      POSTGRES_DB: 'ny_taxi'\n",
    "    ports:\n",
    "      - '5433:5432'\n",
    "    volumes:\n",
    "      - vol-pgdata:/var/lib/postgresql/data\n",
    "\n",
    "### Docker command for windows\n",
    "`docker run -it \\\n",
    "   -e POSTGRES_USER=\"root\" \\\n",
    "   -e POSTGRES_PASSWORD=\"root\" \\\n",
    "   -e POSTGRES_DB=\"ny_taxi\" \\\n",
    "   -v /\"$(pwd)\"/ny_taxi_postgres_data/:/var/lib/postgresql/data/\\\n",
    "   -p 5432:5432 \\\n",
    "   postgres:13`\n",
    "\n",
    "After you have the postgres db running, run the following script in the command line: \n",
    "\n",
    "# -h to indicate the host\n",
    "# -p to select the port\n",
    "# -u for the user and -d for the name of the database\n",
    "$ pgcli -h localhost -p 5432 -u root -d ny_taxi\n",
    "\n",
    "After this, you will probably be prompt to enter the postgres user password which you should find in the docker compose."
   ]
  }
 ],
 "metadata": {
  "language_info": {
   "name": "python"
  }
 },
 "nbformat": 4,
 "nbformat_minor": 2
}
